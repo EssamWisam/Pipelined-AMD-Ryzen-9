{
 "cells": [
  {
   "cell_type": "code",
   "execution_count": 2,
   "metadata": {},
   "outputs": [],
   "source": [
    "def cs_generator(OPsrc=\"0\", TFAOI=\"0\", ALUOP=\"000\", AddSrc=\"00\", MEMW=\"0\", SPA=\"000\", WF=\"0\", PCSrc=\"00\",\n",
    "                 WB=\"0\", SaveF=\"0\", ResF=\"0\", PCC=\"00\", JM=\"000\", WriteOut=\"0\", Bit1=\"0\", Freeze=\"0\",\n",
    "                 Cond=\"0\", EXP1=\"0\", EXP2=\"0\"):\n",
    "    return (EXP1+EXP2+Cond+Freeze+Bit1+WriteOut+JM+PCC+ResF+SaveF+WB+PCSrc+WF+SPA+MEMW+AddSrc+ALUOP+TFAOI+OPsrc)\n"
   ]
  },
  {
   "cell_type": "code",
   "execution_count": 3,
   "metadata": {},
   "outputs": [
    {
     "name": "stdout",
     "output_type": "stream",
     "text": [
      "0000000000000100000000000000 -- MOV\n",
      "0000000000000100000000010100 -- INC\n",
      "0000000000000100000000001100 -- ADD\n",
      "0000000000000100000000010000 -- SUB\n",
      "0000000000000100000000001000 -- AND\n",
      "0000000000000000000000011000 -- SETC\n",
      "0000000000000100000000001101 -- ADDI\n",
      "0000000000000000001011000000 -- PUSH\n",
      "0000000000000100100101000000 -- POP\n",
      "0000000000000100000000000001 -- LDM\n",
      "0000000000000100100000101101 -- LDD\n",
      "0000000000000000000010101101 -- STD\n",
      "0000000000000000000000000010 -- IN\n",
      "0000010000000000000000000000 -- OUT\n",
      "0001000000000000000000000000 -- HLT\n",
      "0000000000000000000000000000 -- NOP\n",
      "0000000000000000000000011100 -- NOT\n",
      "0000000000100010000000000000 -- JZ\n",
      "0000000010100010000000000000 -- JN\n",
      "0000000100100010000000000000 -- JC\n",
      "0010000110100010000000000000 -- JMP\n",
      "0000001000100010000001000000 -- CALL\n",
      "0000001010100001000001000000 -- RET\n",
      "0000001110110001000001000000 -- RTI\n",
      "0000001100101000000001000000 -- INT\n"
     ]
    }
   ],
   "source": [
    "# only write what is not default\n",
    "print(cs_generator(ALUOP=\"000\", WB=\"1\"), \"-- MOV\")  # MOV\n",
    "print(cs_generator(ALUOP=\"101\", WB=\"1\"), \"-- INC\")  # INC\n",
    "print(cs_generator(ALUOP=\"011\", WB=\"1\"), \"-- ADD\")  # ADD\n",
    "print(cs_generator(ALUOP=\"100\", WB=\"1\"), \"-- SUB\")  # SUB\n",
    "print(cs_generator(ALUOP=\"010\", WB=\"1\"), \"-- AND\")  # AND\n",
    "print(cs_generator(ALUOP=\"110\"), \"-- SETC\")        # SETC\n",
    "print(cs_generator(OPsrc=\"1\", ALUOP=\"011\", WB=\"1\"), \"-- ADDI\")  # ADDI\n",
    "print(cs_generator(AddSrc=\"10\", SPA=\"010\", MEMW=\"1\"), \"-- PUSH\")  \n",
    "print(cs_generator(AddSrc=\"10\", SPA=\"001\", WB=\"1\", WF=\"1\"), \"-- POP\")  \n",
    "print(cs_generator(OPsrc=\"1\", WB=\"1\"), \"-- LDM\")  # LDM\n",
    "print(cs_generator(AddSrc=\"01\",OPsrc=\"1\", ALUOP=\"011\", WB=\"1\", WF=\"1\"), \"-- LDD\")  \n",
    "print(cs_generator(AddSrc=\"01\",OPsrc=\"1\", ALUOP=\"011\", MEMW=\"1\"), \"-- STD\")  \n",
    "#Karim\n",
    "print(cs_generator(TFAOI=\"1\"),\"-- IN\")\n",
    "print(cs_generator(WriteOut=\"1\"),\"-- OUT\")\n",
    "print(cs_generator(Freeze=\"1\"),\"-- HLT\")\n",
    "print(cs_generator(),\"-- NOP\")\n",
    "print(cs_generator(ALUOP=\"111\"),\"-- NOT\")\n",
    "# Branch Instructions\n",
    "print(cs_generator(PCC=\"01\",PCSrc=\"10\",JM=\"000\"),\"-- JZ\")\n",
    "print(cs_generator(PCC=\"01\",PCSrc=\"10\",JM=\"001\"),\"-- JN\")\n",
    "print(cs_generator(PCC=\"01\",PCSrc=\"10\",JM=\"010\"),\"-- JC\")\n",
    "print(cs_generator(PCC=\"01\",PCSrc=\"10\",JM=\"011\",Cond=\"1\"),\"-- JMP\")  ## unconditional JM ==> Cond=1 (will Jump)\n",
    "print(cs_generator(AddSrc=\"10\",PCC=\"01\",PCSrc=\"10\",JM=\"100\"),\"-- CALL\")#!DEPT\n",
    "print(cs_generator(AddSrc=\"10\",PCC=\"01\",PCSrc=\"01\",JM=\"101\"),\"-- RET\") #!DEPT\n",
    "print(cs_generator(AddSrc=\"10\",PCC=\"01\",PCSrc=\"01\",ResF=\"1\", JM=\"111\"),\"-- RTI\")#!DEPT\n",
    "print(cs_generator(AddSrc=\"10\",PCC=\"01\",SaveF=\"1\", JM=\"110\"),\"-- INT\")#!DEPT\n",
    "\n",
    "\n"
   ]
  },
  {
   "cell_type": "code",
   "execution_count": 4,
   "metadata": {},
   "outputs": [],
   "source": [
    "def assembler(OP, Rdst, Rsrc1, Rsrc2, Imm=\"NO\"):\n",
    "    if(OP == \"MOV\"):\n",
    "        OP = \"0010000\"\n",
    "    elif(OP == \"INC\"):\n",
    "        OP = \"0001100\"\n",
    "    elif(OP == \"SETC\"):\n",
    "        OP = \"0001010\"\n",
    "    elif(OP == \"ADD\"):\n",
    "        OP = \"0010001\"\n",
    "    elif(OP == \"SUB\"):\n",
    "        OP = \"0010010\"\n",
    "    elif(OP == \"AND\"):\n",
    "        OP = \"0010011\"\n",
    "    elif(OP == \"ADDI\"):\n",
    "        OP = \"1010100\"\n",
    "    elif(OP == \"PUSH\"):\n",
    "        OP = \"0000001\"\n",
    "    elif(OP == \"POP\"):\n",
    "        OP = \"0000010\"\n",
    "    elif(OP == \"LDM\"):\n",
    "        OP = \"1000011\"\n",
    "    elif(OP == \"LDD\"):\n",
    "        OP = \"1000100\"\n",
    "    elif(OP == \"STD\"):\n",
    "        OP = \"1000101\"\n",
    "# Karim\n",
    "    elif(OP == \"NOP\"):\n",
    "        OP = \"0001000\"\n",
    "    elif (OP == \"HLT\"):\n",
    "        OP = \"0001001\"\n",
    "    elif(OP == \"IN\"):\n",
    "        OP = \"0001110\"\n",
    "    elif(OP == \"OUT\"):\n",
    "        OP = \"0001101\"\n",
    "    elif (OP == \"NOT\"):\n",
    "        OP = \"0001011\"\n",
    "##Branch Instructions : PCC=1\n",
    "    elif (OP == \"JZ\"):\n",
    "        OP = \"0011000\"\n",
    "    elif (OP == \"JN\"):\n",
    "        OP = \"0011001\"\n",
    "    elif (OP == \"JC\"):\n",
    "        OP = \"0011010\"\n",
    "    elif (OP == \"JMP\"):\n",
    "        OP = \"0011011\"\n",
    "    elif(OP == \"CALL\"):\n",
    "        OP = \"0011100\"\n",
    "    elif(OP == \"INT\"):\n",
    "        OP = \"0011110\"\n",
    "## NOTe bit B=1, both are return\n",
    "    elif(OP == \"RET\"):\n",
    "        OP = \"0111101\"\n",
    "    elif(OP == \"RTI\"):\n",
    "        OP = \"0111111\"\n",
    "\n",
    "    # decimal to 3 bit binary\n",
    "    Rdst = bin(int(Rdst))[2:].zfill(3)\n",
    "    Rsrc1 = bin(int(Rsrc1))[2:].zfill(3)\n",
    "    Rsrc2 = bin(int(Rsrc2))[2:].zfill(3)\n",
    "    result = (Rsrc2+Rsrc1+Rdst+OP)\n",
    "    result = hex(int(result, 2))\n",
    "    result = result[2:]\n",
    "    result = result.zfill(4)\n",
    "\n",
    "    if (Imm != \"NO\"):\n",
    "        Imm = bin(int(Imm))[2:].zfill(16)\n",
    "        Imm = hex(int(Imm, 2))\n",
    "        Imm = Imm[2:]\n",
    "        Imm = Imm.zfill(4)\n",
    "        result = result+'\\n'+Imm\n",
    "\n",
    "    return result\n"
   ]
  },
  {
   "cell_type": "code",
   "execution_count": 5,
   "metadata": {},
   "outputs": [],
   "source": [
    "def print_for_memo(instructions):\n",
    "\tfor i in instructions:\n",
    "\t\ti='x\"'+i+'\"'\n",
    "\t\tprint(i, end=\",\\n\")\n"
   ]
  },
  {
   "cell_type": "code",
   "execution_count": null,
   "metadata": {},
   "outputs": [],
   "source": []
  },
  {
   "cell_type": "code",
   "execution_count": 15,
   "metadata": {},
   "outputs": [
    {
     "name": "stdout",
     "output_type": "stream",
     "text": [
      "x\"0590\",\n",
      "x\"4611\",\n",
      "x\"4693\",\n",
      "x\"2354\n",
      "000f\",\n",
      "x\"2b92\",\n",
      "x\"0d8c\",\n",
      "x\"000a\",\n"
     ]
    }
   ],
   "source": [
    "'''\n",
    "Test 1:\n",
    "intially\n",
    "R1 = 1\n",
    "R2 = 2\n",
    "MOV R3, R1\n",
    "ADD R4, R1, R2\n",
    "AND R5, R1, R2\n",
    "ADDI R6, R1, 15\n",
    "SUB R7, R2, R1\n",
    "INC R3\n",
    "'''\n",
    "print_for_memo([\n",
    "assembler(\"MOV\", 3, 1, 0),\n",
    "assembler(\"ADD\", 4, 1, 2),\n",
    "assembler(\"AND\", 5, 1, 2),\n",
    "assembler(\"ADDI\", 6, 0, 1, 15),\n",
    "assembler(\"SUB\", 7, 2, 1),\n",
    "assembler(\"INC\", 3, 3, 0),\n",
    "assembler(\"SETC\", 0, 0, 0 )\n",
    "])"
   ]
  },
  {
   "cell_type": "code",
   "execution_count": 7,
   "metadata": {},
   "outputs": [
    {
     "name": "stdout",
     "output_type": "stream",
     "text": [
      "0590\n",
      "\n",
      "4611\n",
      "\n",
      "4693\n",
      "\n",
      "2d91\n",
      "\n"
     ]
    }
   ],
   "source": [
    "'''\n",
    "Test 2:\n",
    "intially\n",
    "R1 = 1\n",
    "R2 = 2\n",
    "MOV R3, R1\n",
    "ADD R4, R1, R2\n",
    "AND R5, R1, R2\n",
    "ADD R3 ,R3, R1\n",
    "'''\n",
    "print(assembler(\"MOV\", 3, 1, 0),end=\"\\n\\n\")\n",
    "print(assembler(\"ADD\", 4, 1, 2),end=\"\\n\\n\")\n",
    "print(assembler(\"AND\", 5, 1, 2),end=\"\\n\\n\")\n",
    "print(assembler(\"ADD\", 3, 3, 1),end=\"\\n\\n\")\n"
   ]
  },
  {
   "cell_type": "code",
   "execution_count": 8,
   "metadata": {},
   "outputs": [
    {
     "name": "stdout",
     "output_type": "stream",
     "text": [
      "2481\n",
      "\n",
      "01c3\n",
      "000f\n",
      "\n",
      "0202\n",
      "\n",
      "2445\n",
      "000f\n",
      "\n",
      "2344\n",
      "000f\n",
      "\n"
     ]
    }
   ],
   "source": [
    "'''\n",
    "Test 3:\n",
    "intially\n",
    "R1 = 1\n",
    "R2 = 2\n",
    "PUSH R1\n",
    "LDM R3, 15\n",
    "POP R4\n",
    "STD R1,R1(15)\n",
    "LDD R6,R1(15)\n",
    "'''\n",
    "print(assembler(\"PUSH\", 1, 1, 1),end=\"\\n\\n\")\n",
    "print(assembler(\"LDM\", 3, 0, 0, 15),end=\"\\n\\n\")\n",
    "print(assembler(\"POP\", 4, 0, 0),end=\"\\n\\n\")\n",
    "print(assembler(\"STD\", 0, 1, 1, 15),end=\"\\n\\n\")\n",
    "print(assembler(\"LDD\", 6, 0, 1, 15),end=\"\\n\\n\")\n"
   ]
  },
  {
   "cell_type": "code",
   "execution_count": 9,
   "metadata": {},
   "outputs": [
    {
     "name": "stdout",
     "output_type": "stream",
     "text": [
      "018e\n",
      "\n",
      "4611\n",
      "\n",
      "c691\n",
      "\n",
      "2d91\n",
      "\n",
      "0c0d\n",
      "\n"
     ]
    }
   ],
   "source": [
    "'''\n",
    "Test 5:\n",
    "intially\n",
    "R1 = 4\n",
    "R2 = 7\n",
    "R6 = 16\n",
    "IN PORT = 3\n",
    "IN  R3\n",
    "ADD R4, R1, R2\n",
    "ADD R5, R1, R6\n",
    "ADD R3 ,R3, R1\n",
    "OUT R3\n",
    "'''\n",
    "print(assembler(\"IN\",  3, 0, 0),end=\"\\n\\n\")\n",
    "print(assembler(\"ADD\", 4, 1, 2),end=\"\\n\\n\")\n",
    "print(assembler(\"ADD\", 5, 1, 6),end=\"\\n\\n\")\n",
    "print(assembler(\"ADD\", 3, 3, 1),end=\"\\n\\n\")\n",
    "print(assembler(\"OUT\", 0, 3, 0),end=\"\\n\\n\")"
   ]
  },
  {
   "cell_type": "code",
   "execution_count": 10,
   "metadata": {},
   "outputs": [
    {
     "name": "stdout",
     "output_type": "stream",
     "text": [
      "041b\n",
      "\n",
      "081a\n",
      "\n",
      "0418\n",
      "\n",
      "0819\n",
      "\n"
     ]
    }
   ],
   "source": [
    "'''\n",
    "Test 6:\n",
    "intially\n",
    "R1 = 67\n",
    "R2 = 89\n",
    "JMP R1\n",
    "JC R2\n",
    "JZ R1\n",
    "JN R2\n",
    "'''\n",
    "print(assembler(\"JMP\", 0, 1, 0),end=\"\\n\\n\")\n",
    "print(assembler(\"JC\", 0, 2, 0),end=\"\\n\\n\")\n",
    "print(assembler(\"JZ\", 0, 1, 0),end=\"\\n\\n\")\n",
    "print(assembler(\"JN\", 0, 2, 0),end=\"\\n\\n\")\n"
   ]
  },
  {
   "cell_type": "code",
   "execution_count": 11,
   "metadata": {},
   "outputs": [],
   "source": [
    "#NOP\n",
    "#PUSH R1\n",
    "#POP R2\n",
    "#LDM R3, 15\n",
    "#LDD R4, R1(15)\n",
    "#STD R1, R1(15)\n",
    "#MOV R5, R2\n",
    "def assembler_to_file(file):\n",
    "\twith open(file, 'r') as f:\n",
    "\t\tinstructions = f.readlines()\n",
    "\t\tfor i in instructions:\n",
    "\t\t\ti = i.split()\n",
    "\t\t\tif(len(i) == 1):\n",
    "\t\t\t\tprint(assembler(i[0], i[1], i[1], \"NO\"),end=\"\\n\\n\")\n",
    "\t\t\telif(len(i) == 2):\n",
    "\t\t\t\tprint(assembler(i[0], i[1], i[1], i[2]),end=\"\\n\\n\")\n",
    "\t\t\telif(len(i) == 3):\n",
    "\t\t\t\tprint(assembler(i[0], i[1], i[2], i[3]),end=\"\\n\\n\")\n",
    "\t\t\telif(len(i) == 4):\n",
    "\t\t\t\tprint(assembler(i[0], i[1], i[2], i[3]),end=\"\\n\\n\")\n",
    "\t\t\telse:\n",
    "\t\t\t\tprint(\"Invalid Instruction\")"
   ]
  },
  {
   "cell_type": "code",
   "execution_count": 12,
   "metadata": {},
   "outputs": [
    {
     "name": "stdout",
     "output_type": "stream",
     "text": [
      "x\"0590\",\n",
      "x\"0008\",\n",
      "x\"4611\",\n",
      "x\"0009\",\n",
      "x\"4693\",\n",
      "x\"2d91\",\n",
      "------------------\n",
      "0590\n",
      "\n",
      "0008\n",
      "\n",
      "4611\n",
      "\n",
      "0009\n",
      "\n",
      "4693\n",
      "\n",
      "2d91\n",
      "\n"
     ]
    }
   ],
   "source": [
    "'''\n",
    "Test 7:\n",
    "intially\n",
    "R1 = 1\n",
    "R2 = 2\n",
    "MOV R3, R1\n",
    "NOP\n",
    "ADD R4, R1, R2\n",
    "HLT\n",
    "AND R5, R1, R2\n",
    "ADD R3 ,R3, R1\n",
    "'''\n",
    "print_for_memo([\n",
    "\tassembler(\"MOV\", 3, 1, 0),\n",
    "\tassembler(\"NOP\", 0, 0, 0),\n",
    "\tassembler(\"ADD\", 4, 1, 2),\n",
    "\tassembler(\"HLT\", 0, 0, 0),\n",
    "\tassembler(\"AND\", 5, 1, 2),\n",
    "\tassembler(\"ADD\", 3, 3, 1)\n",
    "\t])\n",
    "print(\"------------------\")\n",
    "print(assembler(\"MOV\", 3, 1, 0),end=\"\\n\\n\")\n",
    "print(assembler(\"NOP\", 0, 0, 0),end=\"\\n\\n\")\n",
    "print(assembler(\"ADD\", 4, 1, 2),end=\"\\n\\n\")\n",
    "print(assembler(\"HLT\", 0, 0, 0),end=\"\\n\\n\")\n",
    "print(assembler(\"AND\", 5, 1, 2),end=\"\\n\\n\")\n",
    "print(assembler(\"ADD\", 3, 3, 1),end=\"\\n\\n\")\n"
   ]
  },
  {
   "cell_type": "markdown",
   "metadata": {},
   "source": [
    "## PLAY"
   ]
  },
  {
   "cell_type": "code",
   "execution_count": 13,
   "metadata": {},
   "outputs": [
    {
     "name": "stdout",
     "output_type": "stream",
     "text": [
      "041b\n",
      "\n",
      "2b92\n",
      "\n",
      "x\"041b\",\n",
      "x\"2b92\",\n"
     ]
    }
   ],
   "source": [
    "'''\n",
    "Test 6:\n",
    "intially\n",
    "R1 = 67\n",
    "R2 = 89\n",
    "JMP R1\n",
    "JC R2\n",
    "JZ R1\n",
    "JN R2\n",
    "'''\n",
    "print(assembler(\"JMP\", 0, 1, 0),end=\"\\n\\n\")\n",
    "print(assembler(\"SUB\", 7, 2, 1),end=\"\\n\\n\")\n",
    "print_for_memo([\n",
    "\tassembler(\"JMP\", 0, 1, 0),\n",
    "\tassembler(\"SUB\", 7, 2, 1)\n",
    "])"
   ]
  },
  {
   "cell_type": "code",
   "execution_count": 16,
   "metadata": {},
   "outputs": [
    {
     "name": "stdout",
     "output_type": "stream",
     "text": [
      "x\"2082\",\n",
      "x\"0590\",\n",
      "x\"2511\",\n",
      "x\"0610\",\n"
     ]
    }
   ],
   "source": [
    "print_for_memo([\n",
    "assembler(\"POP\", 1, 0, 1),\n",
    "assembler(\"MOV\", 3, 1, 0),\n",
    "assembler(\"ADD\", 2, 1, 1),\n",
    "assembler(\"MOV\", 4, 1, 0)\n",
    "])"
   ]
  }
 ],
 "metadata": {
  "interpreter": {
   "hash": "7d1fcf3e07d2147d18f7734327257f6bd258d9380ea1e2edb0fb58d14e2618c1"
  },
  "kernelspec": {
   "display_name": "Python 3.8.8 64-bit ('base': conda)",
   "language": "python",
   "name": "python3"
  },
  "language_info": {
   "codemirror_mode": {
    "name": "ipython",
    "version": 3
   },
   "file_extension": ".py",
   "mimetype": "text/x-python",
   "name": "python",
   "nbconvert_exporter": "python",
   "pygments_lexer": "ipython3",
   "version": "3.8.8"
  },
  "orig_nbformat": 4
 },
 "nbformat": 4,
 "nbformat_minor": 2
}
