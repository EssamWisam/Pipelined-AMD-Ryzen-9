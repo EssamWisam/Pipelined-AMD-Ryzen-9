{
 "cells": [
  {
   "cell_type": "code",
   "execution_count": 1,
   "metadata": {},
   "outputs": [],
   "source": [
    "def cs_generator(OPsrc=\"0\", TFAOI=\"0\", ALUOP=\"000\", AddSrc=\"00\", MEMW=\"0\", SPA=\"000\", WF=\"0\", PCSrc=\"00\",\n",
    "                 WB=\"0\", SaveF=\"0\", ResF=\"0\", PCC=\"00\", JM=\"000\", WriteOut=\"0\", Bit1=\"0\", Freeze=\"0\",\n",
    "                 Cond=\"0\", EXP1=\"0\", EXP2=\"0\"):\n",
    "    return (EXP1+EXP2+Cond+Freeze+Bit1+WriteOut+JM+PCC+ResF+SaveF+WB+PCSrc+WF+SPA+MEMW+AddSrc+ALUOP+TFAOI+OPsrc)\n"
   ]
  },
  {
   "cell_type": "code",
   "execution_count": 4,
   "metadata": {},
   "outputs": [
    {
     "name": "stdout",
     "output_type": "stream",
     "text": [
      "0000000000000100000000000000 -- MOV\n",
      "0000000000000100000000010100 -- INC\n",
      "0000000000000100000000001100 -- ADD\n",
      "0000000000000100000000010000 -- SUB\n",
      "0000000000000100000000001000 -- AND\n",
      "0000000000000000000000011000 -- SETC\n",
      "0000000000000100000000001101 -- ADDI\n",
      "0000000000000000001010100000 -- PUSH\n",
      "0000000000000100100100100000 -- POP\n",
      "0000000000000100000000000001 -- LDM\n",
      "0000000000000100100000001101 -- LDD\n",
      "0000000000000000000010001101 -- STD\n",
      "0000000000000000000000000010 -- IN\n",
      "0001000000000000000000000000 -- HLT\n",
      "0000000000000000000000000000 -- NOP\n",
      "0000000000000000000000011100 -- NOT\n",
      "00000000010002000000000000 -- JZ\n",
      "00000000110002000000000000 -- JN\n",
      "00000001010002000000000000 -- JC\n",
      "00100001110002000000000000 -- JM\n",
      "00000010010002000000000000 -- CALL\n",
      "00000010110001000000000000 -- RET\n",
      "00000011111001000000000000 -- RTI\n",
      "000000110101000000000000000 -- INT\n"
     ]
    }
   ],
   "source": [
    "# only write what is not default\n",
    "print(cs_generator(ALUOP=\"000\", WB=\"1\"), \"-- MOV\")  # MOV\n",
    "print(cs_generator(ALUOP=\"101\", WB=\"1\"), \"-- INC\")  # INC\n",
    "print(cs_generator(ALUOP=\"011\", WB=\"1\"), \"-- ADD\")  # ADD\n",
    "print(cs_generator(ALUOP=\"100\", WB=\"1\"), \"-- SUB\")  # SUB\n",
    "print(cs_generator(ALUOP=\"010\", WB=\"1\"), \"-- AND\")  # AND\n",
    "print(cs_generator(ALUOP=\"110\"), \"-- SETC\")        # SETC\n",
    "print(cs_generator(OPsrc=\"1\", ALUOP=\"011\", WB=\"1\"), \"-- ADDI\")  # ADDI\n",
    "print(cs_generator(AddSrc=\"01\", SPA=\"010\", MEMW=\"1\"), \"-- PUSH\")  # PUSH\n",
    "print(cs_generator(AddSrc=\"01\", SPA=\"001\", WB=\"1\", WF=\"1\"), \"-- POP\")  # POP\n",
    "print(cs_generator(OPsrc=\"1\", WB=\"1\"), \"-- LDM\")  # LDM\n",
    "print(cs_generator(OPsrc=\"1\", ALUOP=\"011\", WB=\"1\", WF=\"1\"), \"-- LDD\")  # LDD\n",
    "print(cs_generator(OPsrc=\"1\", ALUOP=\"011\", MEMW=\"1\"), \"-- STD\")  # STD\n",
    "#Karim\n",
    "print(cs_generator(TFAOI=\"1\"),\"-- IN\")\n",
    "print(cs_generator(Freeze=\"1\"),\"-- HLT\")\n",
    "print(cs_generator(),\"-- NOP\")\n",
    "print(cs_generator(ALUOP=\"111\"),\"-- NOT\")\n",
    "# Branch Instructions\n",
    "print(cs_generator(PCC=\"01\",PCSrc=\"2\",JM=\"000\"),\"-- JZ\")\n",
    "print(cs_generator(PCC=\"01\",PCSrc=\"2\",JM=\"001\"),\"-- JN\")\n",
    "print(cs_generator(PCC=\"01\",PCSrc=\"2\",JM=\"010\"),\"-- JC\")\n",
    "print(cs_generator(PCC=\"01\",PCSrc=\"2\",JM=\"011\",Cond=\"1\"),\"-- JM\")  ## unconditional JM ==> Cond=1 (will Jump)\n",
    "print(cs_generator(PCC=\"01\",PCSrc=\"2\",JM=\"100\"),\"-- CALL\")\n",
    "print(cs_generator(PCC=\"01\",PCSrc=\"1\",JM=\"101\"),\"-- RET\")\n",
    "print(cs_generator(PCC=\"01\",PCSrc=\"1\",ResF=\"1\", JM=\"111\"),\"-- RTI\")\n",
    "print(cs_generator(PCC=\"01\",SaveF=\"1\", JM=\"110\"),\"-- INT\")\n",
    "\n",
    "\n"
   ]
  },
  {
   "cell_type": "code",
   "execution_count": 3,
   "metadata": {},
   "outputs": [],
   "source": [
    "def assembler(OP, Rdst, Rsrc1, Rsrc2, Imm=0):\n",
    "    if(OP == \"MOV\"):\n",
    "        OP = \"0010000\"\n",
    "    elif(OP == \"INC\"):\n",
    "        OP = \"0001100\"\n",
    "    elif(OP == \"SETC\"):\n",
    "        OP = \"0001010\"\n",
    "    elif(OP == \"ADD\"):\n",
    "        OP = \"0010001\"\n",
    "    elif(OP == \"SUB\"):\n",
    "        OP = \"0010010\"\n",
    "    elif(OP == \"AND\"):\n",
    "        OP = \"0010011\"\n",
    "    elif(OP == \"ADDI\"):\n",
    "        OP = \"1010100\"\n",
    "    elif(OP == \"PUSH\"):\n",
    "        OP = \"0000001\"\n",
    "    elif(OP == \"POP\"):\n",
    "        OP = \"0000010\"\n",
    "    elif(OP == \"LDM\"):\n",
    "        OP = \"1000011\"\n",
    "    elif(OP == \"LDD\"):\n",
    "        OP = \"0000100\"\n",
    "    elif(OP == \"STD\"):\n",
    "        OP = \"0000101\"\n",
    "# Karim\n",
    "    elif(OP == \"NOP\"):\n",
    "        OP = \"0001000\"\n",
    "    elif (OP == \"HLT\"):\n",
    "        OP = \"0001001\"\n",
    "    elif(OP == \"IN\"):\n",
    "        OP = \"0001110\"\n",
    "    elif (OP == \"NOT\"):\n",
    "        OP = \"0001011\"\n",
    "##Branch Instructions : PCC=1\n",
    "    elif (OP == \"JZ\"):\n",
    "        OP = \"0011000\"\n",
    "    elif (OP == \"JN\"):\n",
    "        OP = \"0011001\"\n",
    "    elif (OP == \"JC\"):\n",
    "        OP = \"0011010\"\n",
    "    elif (OP == \"JM\"):\n",
    "        OP = \"0011011\"\n",
    "    elif(OP == \"CALL\"):\n",
    "        OP = \"0011100\"\n",
    "    elif(OP == \"INT\"):\n",
    "        OP = \"0011110\"\n",
    "## NOTe bit B=1, both are return\n",
    "    elif(OP == \"RET\"):\n",
    "        OP = \"0111101\"\n",
    "    elif(OP == \"RTI\"):\n",
    "        OP = \"0111111\"\n",
    "\n",
    "    # decimal to 3 bit binary\n",
    "    Rdst = bin(int(Rdst))[2:].zfill(3)\n",
    "    Rsrc1 = bin(int(Rsrc1))[2:].zfill(3)\n",
    "    Rsrc2 = bin(int(Rsrc2))[2:].zfill(3)\n",
    "    Imm = bin(int(Imm))[2:].zfill(16)\n",
    "    result = (Imm+Rsrc2+Rsrc1+Rdst+OP)\n",
    "    # result = hex(int(result, 2))\n",
    "    # result = result[2:]\n",
    "    # result = result.zfill(8)\n",
    "    return result\n"
   ]
  },
  {
   "cell_type": "code",
   "execution_count": 8,
   "metadata": {},
   "outputs": [
    {
     "name": "stdout",
     "output_type": "stream",
     "text": [
      "00000000000000000000010110010000\n",
      "00000000000000000100011000010001\n",
      "00000000000000000100011010010011\n",
      "00000000000011110010001101010100\n",
      "00000000000000000010101110010010\n",
      "00000000000000000000010110001100\n",
      "00000000000000000000000000001010\n"
     ]
    }
   ],
   "source": [
    "'''\n",
    "Test 1:\n",
    "intially\n",
    "R1 = 1\n",
    "R2 = 2\n",
    "MOV R3, R1\n",
    "ADD R4, R1, R2\n",
    "AND R5, R1, R2\n",
    "ADDI R6, R1, 15\n",
    "SUB R7, R2, R1\n",
    "INC R1\n",
    "'''\n",
    "print(assembler(\"MOV\", 3, 1, 0))\n",
    "print(assembler(\"ADD\", 4, 1, 2))\n",
    "print(assembler(\"AND\", 5, 1, 2))\n",
    "print(assembler(\"ADDI\", 6, 0, 1, 15))\n",
    "print(assembler(\"SUB\", 7, 2, 1))\n",
    "print(assembler(\"INC\", 3, 1, 0))\n",
    "print(assembler(\"SETC\", 0, 0, 0 ))"
   ]
  },
  {
   "cell_type": "code",
   "execution_count": 37,
   "metadata": {},
   "outputs": [
    {
     "name": "stdout",
     "output_type": "stream",
     "text": [
      "00000000000000000000010110010000\n",
      "00000000000000000100011000010001\n",
      "00000000000000000100011010010011\n",
      "00000000000000000010110110010001\n"
     ]
    }
   ],
   "source": [
    "'''\n",
    "Test 2:\n",
    "intially\n",
    "R1 = 1\n",
    "R2 = 2\n",
    "MOV R3, R1\n",
    "ADD R4, R1, R2\n",
    "AND R5, R1, R2\n",
    "ADD R3 ,R3, R1\n",
    "'''\n",
    "print(assembler(\"MOV\", 3, 1, 0))\n",
    "print(assembler(\"ADD\", 4, 1, 2))\n",
    "print(assembler(\"AND\", 5, 1, 2))\n",
    "print(assembler(\"ADD\", 3, 3, 1))\n"
   ]
  },
  {
   "cell_type": "code",
   "execution_count": 43,
   "metadata": {},
   "outputs": [
    {
     "name": "stdout",
     "output_type": "stream",
     "text": [
      "00000000000000000010010010000001\n",
      "00000000000011110000000111000011\n",
      "00000000000000000000001000000010\n",
      "00000000000011110010010000000101\n",
      "00000000000011110010001100000100\n"
     ]
    }
   ],
   "source": [
    "'''\n",
    "Test 3:\n",
    "intially\n",
    "R1 = 1\n",
    "R2 = 2\n",
    "PUSH R1\n",
    "LDM R3, 15\n",
    "POP R4\n",
    "STD R1,R1(15)\n",
    "LDD R6,R1(15)\n",
    "'''\n",
    "print(assembler(\"PUSH\", 1, 1, 1))\n",
    "print(assembler(\"LDM\", 3, 0, 0, 15))\n",
    "print(assembler(\"POP\", 4, 0, 0))\n",
    "print(assembler(\"STD\", 0, 1, 1, 15))\n",
    "print(assembler(\"LDD\", 6, 0, 1, 15))\n"
   ]
  }
 ],
 "metadata": {
  "interpreter": {
   "hash": "7d1fcf3e07d2147d18f7734327257f6bd258d9380ea1e2edb0fb58d14e2618c1"
  },
  "kernelspec": {
   "display_name": "Python 3.8.8 64-bit ('base': conda)",
   "language": "python",
   "name": "python3"
  },
  "language_info": {
   "codemirror_mode": {
    "name": "ipython",
    "version": 3
   },
   "file_extension": ".py",
   "mimetype": "text/x-python",
   "name": "python",
   "nbconvert_exporter": "python",
   "pygments_lexer": "ipython3",
   "version": "3.9.2"
  },
  "orig_nbformat": 4
 },
 "nbformat": 4,
 "nbformat_minor": 2
}
