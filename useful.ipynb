{
 "cells": [
  {
   "cell_type": "code",
   "execution_count": 2,
   "metadata": {},
   "outputs": [],
   "source": [
    "def cs_generator(OPsrc=\"0\", TFAOI=\"0\", ALUOP=\"000\", AddSrc=\"00\", MEMW=\"0\", SPA=\"000\", WF=\"0\", PCSrc=\"00\", WB=\"0\", SaveF=\"0\", ResF=\"0\", PCC=\"00\", JM=\"000\", WriteOut=\"0\", Bit1=\"0\", Freeze=\"0\", Cond=\"0\", EXP1=\"0\", EXP2=\"0\"):\n",
    "    return (EXP1+EXP2+Cond+Freeze+Bit1+WriteOut+JM+PCC+ResF + SaveF+WB+PCSrc+WF+SPA+MEMW+AddSrc+ALUOP+TFAOI+OPsrc)\n"
   ]
  },
  {
   "cell_type": "code",
   "execution_count": 4,
   "metadata": {},
   "outputs": [
    {
     "name": "stdout",
     "output_type": "stream",
     "text": [
      "MOV 0000000000000100000000000000\n",
      "INC 0000000000000100000000010100\n",
      "ADD 0000000000000100000000001100\n",
      "SUB 0000000000000100000000010000\n",
      "AND 0000000000000100000000001000\n",
      "SETC 0000000000000000000000011000\n",
      "ADDI 0000000000000100000000001101\n",
      "PUSH 0000000000000000001010100000\n",
      "POP 0000000000000100100100100000\n",
      "LDM 0000000000000100000000000001\n",
      "LDD 0000000000000100100000001101\n",
      "STD 0000000000000000000010001101\n"
     ]
    }
   ],
   "source": [
    "# only write what is not default\n",
    "print(\"MOV\", cs_generator(ALUOP=\"000\", WB=\"1\"))  # MOV\n",
    "print(\"INC\", cs_generator(ALUOP=\"101\", WB=\"1\"))  # INC\n",
    "print(\"ADD\", cs_generator(ALUOP=\"011\", WB=\"1\"))  # ADD\n",
    "print(\"SUB\", cs_generator(ALUOP=\"100\", WB=\"1\"))  # SUB\n",
    "print(\"AND\", cs_generator(ALUOP=\"010\", WB=\"1\"))  # AND\n",
    "print(\"SETC\", cs_generator( ALUOP=\"110\"))        # SETC\n",
    "print(\"ADDI\", cs_generator(OPsrc=\"1\", ALUOP=\"011\", WB=\"1\"))  # ADDI\n",
    "print(\"PUSH\", cs_generator(AddSrc=\"01\", SPA=\"010\", MEMW=\"1\"))  # PUSH\n",
    "print(\"POP\", cs_generator(AddSrc=\"01\", SPA=\"001\", WB=\"1\", WF=\"1\"))  # POP\n",
    "print(\"LDM\", cs_generator(OPsrc=\"1\", WB=\"1\"))  # LDM\n",
    "print(\"LDD\", cs_generator(OPsrc=\"1\", ALUOP=\"011\", WB=\"1\", WF=\"1\"))  # LDD\n",
    "print(\"STD\", cs_generator(OPsrc=\"1\", ALUOP=\"011\", MEMW=\"1\"))  # STD"
   ]
  },
  {
   "cell_type": "code",
   "execution_count": 6,
   "metadata": {},
   "outputs": [],
   "source": [
    "def assembler(OP, Rdst, Rsrc1, Rsrc2, Imm=0):\n",
    "    if(OP == \"MOV\"):\n",
    "        OP = \"0010000\"\n",
    "    elif(OP == \"INC\"):\n",
    "        OP = \"0001100\"\n",
    "    elif(OP == \"SETC\"):\n",
    "        OP = \"0001010\"\n",
    "    elif(OP == \"ADD\"):\n",
    "        OP = \"0010001\"\n",
    "    elif(OP == \"SUB\"):\n",
    "        OP = \"0010010\"\n",
    "    elif(OP == \"AND\"):\n",
    "        OP = \"0010011\"\n",
    "    elif(OP == \"ADDI\"):\n",
    "        OP = \"1010100\"\n",
    "    elif(OP == \"PUSH\"):\n",
    "        OP = \"0000001\"\n",
    "    elif(OP == \"POP\"):\n",
    "        OP = \"0000010\"\n",
    "    elif(OP == \"LDM\"):\n",
    "        OP = \"1000011\"\n",
    "    elif(OP == \"LDD\"):\n",
    "        OP = \"0000100\"\n",
    "    elif(OP == \"STD\"):\n",
    "        OP = \"0000101\"\n",
    "    # decimal to 3 bit binary\n",
    "    Rdst = bin(int(Rdst))[2:].zfill(3)\n",
    "    Rsrc1 = bin(int(Rsrc1))[2:].zfill(3)\n",
    "    Rsrc2 = bin(int(Rsrc2))[2:].zfill(3)\n",
    "    Imm = bin(int(Imm))[2:].zfill(16)\n",
    "    result = (Imm+Rsrc2+Rsrc1+Rdst+OP)\n",
    "    # result = hex(int(result, 2))\n",
    "    # result = result[2:]\n",
    "    # result = result.zfill(8)\n",
    "    return result\n"
   ]
  },
  {
   "cell_type": "code",
   "execution_count": 8,
   "metadata": {},
   "outputs": [
    {
     "name": "stdout",
     "output_type": "stream",
     "text": [
      "00000000000000000000010110010000\n",
      "00000000000000000100011000010001\n",
      "00000000000000000100011010010011\n",
      "00000000000011110010001101010100\n",
      "00000000000000000010101110010010\n",
      "00000000000000000000010110001100\n",
      "00000000000000000000000000001010\n"
     ]
    }
   ],
   "source": [
    "'''\n",
    "Test 1:\n",
    "intially\n",
    "R1 = 1\n",
    "R2 = 2\n",
    "MOV R3, R1\n",
    "ADD R4, R1, R2\n",
    "AND R5, R1, R2\n",
    "ADDI R6, R1, 15\n",
    "SUB R7, R2, R1\n",
    "INC R1\n",
    "'''\n",
    "print(assembler(\"MOV\", 3, 1, 0))\n",
    "print(assembler(\"ADD\", 4, 1, 2))\n",
    "print(assembler(\"AND\", 5, 1, 2))\n",
    "print(assembler(\"ADDI\", 6, 0, 1, 15))\n",
    "print(assembler(\"SUB\", 7, 2, 1))\n",
    "print(assembler(\"INC\", 3, 1, 0))\n",
    "print(assembler(\"SETC\", 0, 0, 0 ))"
   ]
  },
  {
   "cell_type": "code",
   "execution_count": 37,
   "metadata": {},
   "outputs": [
    {
     "name": "stdout",
     "output_type": "stream",
     "text": [
      "00000000000000000000010110010000\n",
      "00000000000000000100011000010001\n",
      "00000000000000000100011010010011\n",
      "00000000000000000010110110010001\n"
     ]
    }
   ],
   "source": [
    "'''\n",
    "Test 2:\n",
    "intially\n",
    "R1 = 1\n",
    "R2 = 2\n",
    "MOV R3, R1\n",
    "ADD R4, R1, R2\n",
    "AND R5, R1, R2\n",
    "ADD R3 ,R3, R1\n",
    "'''\n",
    "print(assembler(\"MOV\", 3, 1, 0))\n",
    "print(assembler(\"ADD\", 4, 1, 2))\n",
    "print(assembler(\"AND\", 5, 1, 2))\n",
    "print(assembler(\"ADD\", 3, 3, 1))\n"
   ]
  },
  {
   "cell_type": "code",
   "execution_count": 43,
   "metadata": {},
   "outputs": [
    {
     "name": "stdout",
     "output_type": "stream",
     "text": [
      "00000000000000000010010010000001\n",
      "00000000000011110000000111000011\n",
      "00000000000000000000001000000010\n",
      "00000000000011110010010000000101\n",
      "00000000000011110010001100000100\n"
     ]
    }
   ],
   "source": [
    "'''\n",
    "Test 3:\n",
    "intially\n",
    "R1 = 1\n",
    "R2 = 2\n",
    "PUSH R1\n",
    "LDM R3, 15\n",
    "POP R4\n",
    "STD R1,R1(15)\n",
    "LDD R6,R1(15)\n",
    "'''\n",
    "print(assembler(\"PUSH\", 1, 1, 1))\n",
    "print(assembler(\"LDM\", 3, 0, 0, 15))\n",
    "print(assembler(\"POP\", 4, 0, 0))\n",
    "print(assembler(\"STD\", 0, 1, 1, 15))\n",
    "print(assembler(\"LDD\", 6, 0, 1, 15))\n"
   ]
  }
 ],
 "metadata": {
  "interpreter": {
   "hash": "7d1fcf3e07d2147d18f7734327257f6bd258d9380ea1e2edb0fb58d14e2618c1"
  },
  "kernelspec": {
   "display_name": "Python 3.8.8 64-bit ('base': conda)",
   "language": "python",
   "name": "python3"
  },
  "language_info": {
   "codemirror_mode": {
    "name": "ipython",
    "version": 3
   },
   "file_extension": ".py",
   "mimetype": "text/x-python",
   "name": "python",
   "nbconvert_exporter": "python",
   "pygments_lexer": "ipython3",
   "version": "3.8.8"
  },
  "orig_nbformat": 4
 },
 "nbformat": 4,
 "nbformat_minor": 2
}
