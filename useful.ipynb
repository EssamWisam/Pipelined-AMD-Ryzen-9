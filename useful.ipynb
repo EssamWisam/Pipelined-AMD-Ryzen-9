{
 "cells": [
  {
   "cell_type": "code",
   "execution_count": 13,
   "metadata": {},
   "outputs": [],
   "source": [
    "def cs_generator(OPsrc=\"0\", TFAOI=\"0\", ALUOP=\"000\", AddSrc=\"00\", MEMW=\"0\", SPA=\"000\", WF=\"0\", PCSrc=\"00\", WB=\"0\", SaveF=\"0\", ResF=\"0\", PCC=\"00\", JM=\"000\", WriteOut=\"0\", Bit1=\"0\", Freeze=\"0\", Cond=\"0\", EXP1=\"0\", EXP2=\"0\"):\n",
    "    result1 = (EXP1+EXP2+Cond+Freeze+Bit1+WriteOut+JM+PCC+ResF +\n",
    "               SaveF+WB+PCSrc+WF+SPA+MEMW+AddSrc+ALUOP+TFAOI+OPsrc)\n",
    "    result = hex(int(result1, 2))\n",
    "    result = result[2:]\n",
    "    result = result.zfill(round(len(result1)/4))\n",
    "    return result\n"
   ]
  },
  {
   "cell_type": "code",
   "execution_count": 14,
   "metadata": {},
   "outputs": [
    {
     "name": "stdout",
     "output_type": "stream",
     "text": [
      "MOV 0004000\n",
      "ADD 000400c\n",
      "SUB 0004010\n",
      "AND 0004008\n",
      "ADDI 000400d\n"
     ]
    }
   ],
   "source": [
    "# only write what is not default\n",
    "print(\"MOV\", cs_generator(ALUOP=\"000\", WB=\"1\"))  # MOV\n",
    "print(\"ADD\", cs_generator(ALUOP=\"011\", WB=\"1\"))  # ADD\n",
    "print(\"SUB\", cs_generator(ALUOP=\"100\", WB=\"1\"))  # SUB\n",
    "print(\"AND\", cs_generator(ALUOP=\"010\", WB=\"1\"))  # AND\n",
    "print(\"ADDI\", cs_generator(OPsrc=\"1\", ALUOP=\"011\", WB=\"1\"))  # ADDI\n"
   ]
  },
  {
   "cell_type": "code",
   "execution_count": 7,
   "metadata": {},
   "outputs": [],
   "source": [
    "def assembler(OP, Rdst, Rsrc1, Rsrc2, Imm=0):\n",
    "    if(OP == \"MOV\"):\n",
    "        OP = \"0010000\"\n",
    "    elif(OP == \"ADD\"):\n",
    "        OP = \"0010001\"\n",
    "    elif(OP == \"SUB\"):\n",
    "        OP = \"0010010\"\n",
    "    elif(OP == \"AND\"):\n",
    "        OP = \"0010011\"\n",
    "    elif(OP == \"ADDI\"):\n",
    "        OP = \"1010100\"\n",
    "    # decimal to 3 bit binary\n",
    "    Rdst = bin(int(Rdst))[2:].zfill(3)\n",
    "    Rsrc1 = bin(int(Rsrc1))[2:].zfill(3)\n",
    "    Rsrc2 = bin(int(Rsrc2))[2:].zfill(3)\n",
    "    Imm = bin(int(Imm))[2:].zfill(16)\n",
    "    result = (Imm+Rsrc2+Rsrc1+Rdst+OP)\n",
    "    result = hex(int(result, 2))\n",
    "    result = result[2:]\n",
    "    result = result.zfill(8)\n",
    "    return result\n"
   ]
  },
  {
   "cell_type": "code",
   "execution_count": 8,
   "metadata": {},
   "outputs": [
    {
     "name": "stdout",
     "output_type": "stream",
     "text": [
      "00000590\n",
      "00004611\n",
      "00004693\n",
      "000f2354\n",
      "00002b92\n"
     ]
    }
   ],
   "source": [
    "'''\n",
    "Test 1:\n",
    "intially\n",
    "R1 = 1\n",
    "R2 = 2\n",
    "MOV R3, R1\n",
    "ADD R4, R1, R2\n",
    "AND R5, R1, R2\n",
    "ADDI R6, R1, 15\n",
    "SUB R7, R2, R1\n",
    "'''\n",
    "print(assembler(\"MOV\", 3, 1, 0))\n",
    "print(assembler(\"ADD\", 4, 1, 2))\n",
    "print(assembler(\"AND\", 5, 1, 2))\n",
    "print(assembler(\"ADDI\", 6, 0, 1, 15))\n",
    "print(assembler(\"SUB\", 7, 2, 1))\n"
   ]
  },
  {
   "cell_type": "code",
   "execution_count": 15,
   "metadata": {},
   "outputs": [
    {
     "name": "stdout",
     "output_type": "stream",
     "text": [
      "00000590\n",
      "00004611\n",
      "00004693\n",
      "00002d91\n"
     ]
    }
   ],
   "source": [
    "'''\n",
    "Test 2:\n",
    "intially\n",
    "R1 = 1\n",
    "R2 = 2\n",
    "MOV R3, R1\n",
    "ADD R4, R1, R2\n",
    "AND R5, R1, R2\n",
    "ADD R3 ,R3, R1\n",
    "'''\n",
    "print(assembler(\"MOV\", 3, 1, 0))\n",
    "print(assembler(\"ADD\", 4, 1, 2))\n",
    "print(assembler(\"AND\", 5, 1, 2))\n",
    "print(assembler(\"ADD\", 3, 3, 1))\n"
   ]
  }
 ],
 "metadata": {
  "interpreter": {
   "hash": "7d1fcf3e07d2147d18f7734327257f6bd258d9380ea1e2edb0fb58d14e2618c1"
  },
  "kernelspec": {
   "display_name": "Python 3.8.8 64-bit ('base': conda)",
   "language": "python",
   "name": "python3"
  },
  "language_info": {
   "codemirror_mode": {
    "name": "ipython",
    "version": 3
   },
   "file_extension": ".py",
   "mimetype": "text/x-python",
   "name": "python",
   "nbconvert_exporter": "python",
   "pygments_lexer": "ipython3",
   "version": "3.8.8"
  },
  "orig_nbformat": 4
 },
 "nbformat": 4,
 "nbformat_minor": 2
}
